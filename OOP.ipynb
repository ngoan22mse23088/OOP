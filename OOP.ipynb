{
  "nbformat": 4,
  "nbformat_minor": 0,
  "metadata": {
    "colab": {
      "provenance": [],
      "authorship_tag": "ABX9TyMnzGir1cd+6U3C7BJkSUuz",
      "include_colab_link": true
    },
    "kernelspec": {
      "name": "python3",
      "display_name": "Python 3"
    },
    "language_info": {
      "name": "python"
    }
  },
  "cells": [
    {
      "cell_type": "markdown",
      "metadata": {
        "id": "view-in-github",
        "colab_type": "text"
      },
      "source": [
        "<a href=\"https://colab.research.google.com/github/ngoan22mse23088/OOP/blob/master/OOP.ipynb\" target=\"_parent\"><img src=\"https://colab.research.google.com/assets/colab-badge.svg\" alt=\"Open In Colab\"/></a>"
      ]
    },
    {
      "cell_type": "markdown",
      "source": [
        "Ví dụ\n",
        "Giả sử chúng ta đang xây dựng một hệ thống quản lý bán hàng đơn giản bằng cách sử dụng lập trình thủ tục. Hệ thống này cần thực hiện các chức năng như thêm sản phẩm, cập nhật giá, và tính tổng hóa đơn."
      ],
      "metadata": {
        "id": "P2em-M8xJCeL"
      }
    },
    {
      "cell_type": "code",
      "source": [
        "# Biến toàn cục để lưu trữ danh sách sản phẩm\n",
        "products = []\n",
        "\n",
        "def add_product(name, price):\n",
        "    global products\n",
        "    products.append({\"name\": name, \"price\": price})\n",
        "\n",
        "def update_price(name, new_price):\n",
        "    global products\n",
        "    for product in products:\n",
        "        if product[\"name\"] == name:\n",
        "            product[\"price\"] = new_price\n",
        "\n",
        "def calculate_total():\n",
        "    global products\n",
        "    total = 0\n",
        "    for product in products:\n",
        "        total += product[\"price\"]\n",
        "    return total\n",
        "\n",
        "# Thêm sản phẩm\n",
        "add_product(\"Sản phẩm A\", 100)\n",
        "add_product(\"Sản phẩm B\", 200)\n",
        "\n",
        "# Cập nhật giá\n",
        "update_price(\"Sản phẩm A\", 120)\n",
        "\n",
        "# Tính tổng hóa đơn\n",
        "total = calculate_total()\n",
        "print(\"Tổng hóa đơn:\", total)"
      ],
      "metadata": {
        "colab": {
          "base_uri": "https://localhost:8080/"
        },
        "id": "wjtI-d6TJEJD",
        "outputId": "29865253-f433-4022-c91a-a4d869c0a3bd"
      },
      "execution_count": 1,
      "outputs": [
        {
          "output_type": "stream",
          "name": "stdout",
          "text": [
            "Tổng hóa đơn: 320\n"
          ]
        }
      ]
    },
    {
      "cell_type": "markdown",
      "source": [
        "Vấn đề trong ví dụ trên\n",
        "Thiếu tính mô-đun hóa: Các hàm add_product, update_price, và calculate_total đều phụ thuộc vào biến toàn cục products. Điều này khiến cho việc tách biệt hoặc thay thế một phần code nào đó trở nên khó khăn.\n",
        "\n",
        "Thiếu trừu tượng hóa: Code tập trung vào việc thực hiện các chi tiết cụ thể mà không cung cấp một cách nhìn tổng quan về hệ thống quản lý sản phẩm.\n",
        "\n",
        "Sử dụng biến toàn cục: Biến products được truy cập và sửa đổi bởi nhiều hàm khác nhau, dẫn đến tính trạng thái không xác định và khó khăn trong việc gỡ lỗi."
      ],
      "metadata": {
        "id": "APAs4DMyJQqG"
      }
    },
    {
      "cell_type": "markdown",
      "source": [
        "Giải pháp\n",
        "Để giải quyết những vấn đề này, chúng ta có thể áp dụng các nguyên tắc của lập trình hướng đối tượng (Object-Oriented Programming - OOP). Ví dụ, chúng ta có thể tạo một lớp Product để đại diện cho từng sản phẩm và một lớp ProductManager để quản lý danh sách sản phẩm."
      ],
      "metadata": {
        "id": "BlIp3kRiJRiu"
      }
    },
    {
      "cell_type": "code",
      "source": [
        "class Product:\n",
        "    def __init__(self, name, price):\n",
        "        self.name = name\n",
        "        self.price = price\n",
        "\n",
        "class ProductManager:\n",
        "    def __init__(self):\n",
        "        self.products = []\n",
        "\n",
        "    def add_product(self, product):\n",
        "        self.products.append(product)\n",
        "\n",
        "    def update_price(self, name, new_price):\n",
        "        for product in self.products:\n",
        "            if product.name == name:\n",
        "                product.price = new_price\n",
        "\n",
        "    def calculate_total(self):\n",
        "        total = 0\n",
        "        for product in self.products:\n",
        "            total += product.price\n",
        "        return total\n",
        "\n",
        "# Tạo ProductManager\n",
        "manager = ProductManager()\n",
        "\n",
        "# Thêm sản phẩm\n",
        "manager.add_product(Product(\"Sản phẩm A\", 100))\n",
        "manager.add_product(Product(\"Sản phẩm B\", 200))\n",
        "\n",
        "# Cập nhật giá\n",
        "manager.update_price(\"Sản phẩm A\", 120)\n",
        "\n",
        "# Tính tổng hóa đơn\n",
        "total = manager.calculate_total()\n",
        "print(\"Tổng hóa đơn:\", total)"
      ],
      "metadata": {
        "colab": {
          "base_uri": "https://localhost:8080/"
        },
        "id": "I3uf6O70JYSx",
        "outputId": "7e122a29-d442-4523-bb3f-16f29f8ad726"
      },
      "execution_count": 2,
      "outputs": [
        {
          "output_type": "stream",
          "name": "stdout",
          "text": [
            "Tổng hóa đơn: 320\n"
          ]
        }
      ]
    },
    {
      "cell_type": "markdown",
      "source": [
        "Trong ví dụ này, lớp ProductManager đóng vai trò như một mô-đun độc lập, quản lý danh sách sản phẩm và cung cấp các phương thức để thêm, cập nhật, và tính tổng hóa đơn. Điều này giúp tăng tính mô-đun hóa và trừu tượng hóa, đồng thời giảm sự phụ thuộc vào biến toàn cục."
      ],
      "metadata": {
        "id": "r4c1OUTJJcRp"
      }
    }
  ]
}