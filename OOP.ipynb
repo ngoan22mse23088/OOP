{
  "nbformat": 4,
  "nbformat_minor": 0,
  "metadata": {
    "colab": {
      "provenance": [],
      "authorship_tag": "ABX9TyOBZ0vGnjfgBt2lTbmqYsfw",
      "include_colab_link": true
    },
    "kernelspec": {
      "name": "python3",
      "display_name": "Python 3"
    },
    "language_info": {
      "name": "python"
    }
  },
  "cells": [
    {
      "cell_type": "markdown",
      "metadata": {
        "id": "view-in-github",
        "colab_type": "text"
      },
      "source": [
        "<a href=\"https://colab.research.google.com/github/ngoan22mse23088/OOP/blob/master/OOP.ipynb\" target=\"_parent\"><img src=\"https://colab.research.google.com/assets/colab-badge.svg\" alt=\"Open In Colab\"/></a>"
      ]
    },
    {
      "cell_type": "code",
      "source": [
        "car_color = \"Red\"\n",
        "car_speed = 0\n",
        "\n",
        "def start_car():\n",
        "    global car_speed  # Cần khai báo global để sửa biến toàn cục\n",
        "    car_speed = 60\n",
        "\n",
        "start_car()\n",
        "print(\"Car speed:\", car_speed)"
      ],
      "metadata": {
        "colab": {
          "base_uri": "https://localhost:8080/"
        },
        "id": "wv-rr9PDqLab",
        "outputId": "c3e5e8f4-889d-4fd8-9671-e5cfe9b918e3"
      },
      "execution_count": 2,
      "outputs": [
        {
          "output_type": "stream",
          "name": "stdout",
          "text": [
            "Car speed: 60\n"
          ]
        }
      ]
    },
    {
      "cell_type": "code",
      "source": [
        "class Car:\n",
        "    def __init__(self, color):\n",
        "        self.color = color\n",
        "        self.speed = 0\n",
        "\n",
        "    def start(self):\n",
        "        self.speed = 60\n",
        "        print(\"Car starting... Vroom!\")\n",
        "\n",
        "# Sử dụng class Car\n",
        "my_car = Car(\"Red\")\n",
        "my_car.start()\n",
        "print(f\"Car speed: {my_car.speed}\")\n"
      ],
      "metadata": {
        "colab": {
          "base_uri": "https://localhost:8080/"
        },
        "id": "cxz8Mlkap97J",
        "outputId": "568a8cba-0d46-474b-8bd7-814049bbf7dd"
      },
      "execution_count": 1,
      "outputs": [
        {
          "output_type": "stream",
          "name": "stdout",
          "text": [
            "Car starting... Vroom!\n",
            "Car speed: 60\n"
          ]
        }
      ]
    },
    {
      "cell_type": "markdown",
      "source": [
        "Ví dụ\n",
        "Giả sử chúng ta đang xây dựng một hệ thống quản lý bán hàng đơn giản bằng cách sử dụng lập trình thủ tục. Hệ thống này cần thực hiện các chức năng như thêm sản phẩm, cập nhật giá, và tính tổng hóa đơn."
      ],
      "metadata": {
        "id": "P2em-M8xJCeL"
      }
    },
    {
      "cell_type": "code",
      "source": [
        "# Biến toàn cục để lưu trữ danh sách sản phẩm\n",
        "products = []\n",
        "\n",
        "def add_product(name, price):\n",
        "    global products\n",
        "    products.append({\"name\": name, \"price\": price})\n",
        "\n",
        "def update_price(name, new_price):\n",
        "    global products\n",
        "    for product in products:\n",
        "        if product[\"name\"] == name:\n",
        "            product[\"price\"] = new_price\n",
        "\n",
        "def calculate_total():\n",
        "    global products\n",
        "    total = 0\n",
        "    for product in products:\n",
        "        total += product[\"price\"]\n",
        "    return total\n",
        "\n",
        "# Thêm sản phẩm\n",
        "add_product(\"Sản phẩm A\", 100)\n",
        "add_product(\"Sản phẩm B\", 200)\n",
        "\n",
        "# Cập nhật giá\n",
        "update_price(\"Sản phẩm A\", 120)\n",
        "\n",
        "# Tính tổng hóa đơn\n",
        "total = calculate_total()\n",
        "print(\"Tổng hóa đơn:\", total)"
      ],
      "metadata": {
        "colab": {
          "base_uri": "https://localhost:8080/"
        },
        "id": "wjtI-d6TJEJD",
        "outputId": "29865253-f433-4022-c91a-a4d869c0a3bd"
      },
      "execution_count": null,
      "outputs": [
        {
          "output_type": "stream",
          "name": "stdout",
          "text": [
            "Tổng hóa đơn: 320\n"
          ]
        }
      ]
    },
    {
      "cell_type": "markdown",
      "source": [
        "Vấn đề trong ví dụ trên\n",
        "Thiếu tính mô-đun hóa: Các hàm add_product, update_price, và calculate_total đều phụ thuộc vào biến toàn cục products. Điều này khiến cho việc tách biệt hoặc thay thế một phần code nào đó trở nên khó khăn.\n",
        "\n",
        "Thiếu trừu tượng hóa: Code tập trung vào việc thực hiện các chi tiết cụ thể mà không cung cấp một cách nhìn tổng quan về hệ thống quản lý sản phẩm.\n",
        "\n",
        "Sử dụng biến toàn cục: Biến products được truy cập và sửa đổi bởi nhiều hàm khác nhau, dẫn đến tính trạng thái không xác định và khó khăn trong việc gỡ lỗi."
      ],
      "metadata": {
        "id": "APAs4DMyJQqG"
      }
    },
    {
      "cell_type": "markdown",
      "source": [
        "Giải pháp\n",
        "Để giải quyết những vấn đề này, chúng ta có thể áp dụng các nguyên tắc của lập trình hướng đối tượng (Object-Oriented Programming - OOP). Ví dụ, chúng ta có thể tạo một lớp Product để đại diện cho từng sản phẩm và một lớp ProductManager để quản lý danh sách sản phẩm."
      ],
      "metadata": {
        "id": "BlIp3kRiJRiu"
      }
    },
    {
      "cell_type": "code",
      "source": [
        "class Product:\n",
        "    def __init__(self, name, price):\n",
        "        self.name = name\n",
        "        self.price = price\n",
        "\n",
        "class ProductManager:\n",
        "    def __init__(self):\n",
        "        self.products = []\n",
        "\n",
        "    def add_product(self, product):\n",
        "        self.products.append(product)\n",
        "\n",
        "    def update_price(self, name, new_price):\n",
        "        for product in self.products:\n",
        "            if product.name == name:\n",
        "                product.price = new_price\n",
        "\n",
        "    def calculate_total(self):\n",
        "        total = 0\n",
        "        for product in self.products:\n",
        "            total += product.price\n",
        "        return total\n",
        "\n",
        "# Tạo ProductManager\n",
        "manager = ProductManager()\n",
        "\n",
        "# Thêm sản phẩm\n",
        "manager.add_product(Product(\"Sản phẩm A\", 100))\n",
        "manager.add_product(Product(\"Sản phẩm B\", 200))\n",
        "\n",
        "# Cập nhật giá\n",
        "manager.update_price(\"Sản phẩm A\", 120)\n",
        "\n",
        "# Tính tổng hóa đơn\n",
        "total = manager.calculate_total()\n",
        "print(\"Tổng hóa đơn:\", total)"
      ],
      "metadata": {
        "colab": {
          "base_uri": "https://localhost:8080/"
        },
        "id": "I3uf6O70JYSx",
        "outputId": "7e122a29-d442-4523-bb3f-16f29f8ad726"
      },
      "execution_count": null,
      "outputs": [
        {
          "output_type": "stream",
          "name": "stdout",
          "text": [
            "Tổng hóa đơn: 320\n"
          ]
        }
      ]
    },
    {
      "cell_type": "markdown",
      "source": [
        "Trong ví dụ này, lớp ProductManager đóng vai trò như một mô-đun độc lập, quản lý danh sách sản phẩm và cung cấp các phương thức để thêm, cập nhật, và tính tổng hóa đơn. Điều này giúp tăng tính mô-đun hóa và trừu tượng hóa, đồng thời giảm sự phụ thuộc vào biến toàn cục."
      ],
      "metadata": {
        "id": "r4c1OUTJJcRp"
      }
    },
    {
      "cell_type": "code",
      "source": [
        "# Biến toàn cục\n",
        "car_color = \"Red\"\n",
        "car_speed = 0\n",
        "engine_running = False\n",
        "\n",
        "# Các hàm\n",
        "def start_car():\n",
        "    global car_speed, engine_running\n",
        "    if not engine_running:\n",
        "        engine_running = True\n",
        "        car_speed = 60\n",
        "        print(\"Engine started, car accelerating\")\n",
        "    else:\n",
        "        print(\"Engine already running!\")\n",
        "\n",
        "def stop_car():\n",
        "    global car_speed, engine_running\n",
        "    if engine_running:\n",
        "        engine_running = False\n",
        "        car_speed = 0\n",
        "        print(\"Engine stopped, car halted\")\n",
        "    else:\n",
        "        print(\"Engine already stopped!\")\n",
        "\n",
        "def change_color(new_color):\n",
        "    global car_color\n",
        "    car_color = new_color\n",
        "    print(\"Car color changed to\", car_color)\n",
        "\n",
        "# Sử dụng\n",
        "start_car()\n",
        "change_color(\"Blue\")\n",
        "stop_car()\n"
      ],
      "metadata": {
        "id": "lQ6rzSDysF88",
        "outputId": "3c3ddd36-ce0f-4c19-9928-578a0928b17f",
        "colab": {
          "base_uri": "https://localhost:8080/"
        }
      },
      "execution_count": 3,
      "outputs": [
        {
          "output_type": "stream",
          "name": "stdout",
          "text": [
            "Engine started, car accelerating\n",
            "Car color changed to Blue\n",
            "Engine stopped, car halted\n"
          ]
        }
      ]
    },
    {
      "cell_type": "markdown",
      "source": [
        "Giải thích các vấn đề:\n",
        "\n",
        "Dựa vào các hàm và biến toàn cục:\n",
        "\n",
        "Các hàm start_car, stop_car, change_color đều sửa đổi các biến toàn cục car_speed, car_color, và engine_running. Điều này tạo ra sự phụ thuộc chặt chẽ giữa các phần của code.\n",
        "\n",
        "Ví dụ, nếu ta muốn thêm một thuộc tính mới cho xe (ví dụ: fuel_level, mức nhiên liệu), ta phải thêm một biến toàn cục mới và sửa đổi tất cả các hàm liên quan.\n",
        "\n",
        "Khó mở rộng và bảo trì:\n",
        "\n",
        "Nếu chương trình lớn hơn (ví dụ: mô phỏng nhiều xe, thêm chức năng quản lý nhiên liệu, v.v.), code sẽ trở nên phức tạp và khó quản lý.\n",
        "\n",
        "Việc sửa đổi một phần của code có thể ảnh hưởng đến các phần khác do sự phụ thuộc vào biến toàn cục.\n",
        "\n",
        "Thêm các tính năng mới có thể yêu cầu thay đổi nhiều hàm khác nhau.\n",
        "\n",
        "Thiếu đóng gói và trừu tượng hóa:\n",
        "\n",
        "Không có khái niệm \"đối tượng\" (ví dụ: Car). Tất cả dữ liệu và hành vi được phân tán trong các biến toàn cục và hàm.\n",
        "\n",
        "Khó mô hình hóa các khái niệm thực tế một cách tự nhiên. Ví dụ: \"xe\" là một khái niệm, nhưng trong code này, nó chỉ là một tập hợp các biến và hàm liên quan.\n",
        "\n",
        "Không có cách nào để ẩn các chi tiết triển khai. Mọi thứ đều có thể truy cập và sửa đổi từ bất kỳ đâu trong code."
      ],
      "metadata": {
        "id": "1c70ZP0VsS39"
      }
    },
    {
      "cell_type": "code",
      "source": [
        "class Car:\n",
        "    def __init__(self, color, engine_type):\n",
        "        self.color = color\n",
        "        self.speed = 0\n",
        "        self.engine = Engine(engine_type)\n",
        "\n",
        "    def start(self):\n",
        "        if not self.engine.is_running:\n",
        "            self.engine.start()\n",
        "            self.speed = 10  # Simulate starting speed\n",
        "            print(\"Car starting... Vroom!\")\n",
        "        else:\n",
        "            print(\"Engine already running!\")\n",
        "\n",
        "    def accelerate(self, increment):\n",
        "        if self.engine.is_running:\n",
        "            self.speed += increment\n",
        "            print(f\"Accelerating. Current speed: {self.speed}\")\n",
        "        else:\n",
        "            print(\"Cannot accelerate: Engine is off.\")\n",
        "\n",
        "    def brake(self):\n",
        "        self.speed = 0\n",
        "        print(\"Braking!\")\n",
        "\n",
        "    def display_status(self):  # Abstraction example\n",
        "        print(f\"Car color: {self.color}, Speed: {self.speed}, Engine running: {self.engine.is_running}\")\n",
        "\n",
        "class Engine:\n",
        "    def __init__(self, engine_type):\n",
        "        self.engine_type = engine_type\n",
        "        self.is_running = False\n",
        "\n",
        "    def start(self):\n",
        "        self.is_running = True\n",
        "        print(f\"{self.engine_type} Engine started\")\n",
        "\n",
        "    def stop(self):\n",
        "        self.is_running = False\n",
        "        print(\"Engine stopped.\")\n",
        "\n",
        "\n",
        "# Sử dụng\n",
        "my_car = Car(\"Red\", \"Gasoline\")\n",
        "my_car.display_status()\n",
        "my_car.start()\n",
        "my_car.accelerate(50)\n",
        "my_car.brake()\n",
        "my_car.display_status()"
      ],
      "metadata": {
        "id": "LxaI358QuD-P"
      },
      "execution_count": null,
      "outputs": []
    }
  ]
}